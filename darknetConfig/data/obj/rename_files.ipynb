{
 "cells": [
  {
   "cell_type": "code",
   "execution_count": 3,
   "metadata": {},
   "outputs": [],
   "source": [
    "import os"
   ]
  },
  {
   "cell_type": "code",
   "execution_count": 9,
   "metadata": {},
   "outputs": [
    {
     "name": "stdout",
     "output_type": "stream",
     "text": [
      "0.jpg\n",
      "1.jpg\n",
      "10.jpg\n",
      "11.jpg\n",
      "12.jpg\n",
      "13.jpg\n",
      "14.jpg\n",
      "15.jpg\n",
      "16.jpg\n",
      "17.jpg\n",
      "18.jpg\n",
      "19.jpg\n",
      "2.jpg\n",
      "20.jpg\n",
      "21.jpg\n",
      "22.jpg\n",
      "23.jpg\n",
      "24.jpg\n",
      "25.jpg\n",
      "26.jpg\n",
      "27.jpg\n",
      "28.jpg\n",
      "29.jpg\n",
      "3.jpg\n",
      "30.jpg\n",
      "31.jpg\n",
      "32.jpg\n",
      "33.jpg\n",
      "34.jpg\n",
      "35.jpg\n",
      "36.jpg\n",
      "37.jpg\n",
      "38.jpg\n",
      "39.jpg\n",
      "4.jpg\n",
      "40.jpg\n",
      "41.jpg\n",
      "42.jpg\n",
      "43.jpg\n",
      "44.jpg\n",
      "45.jpg\n",
      "46.jpg\n",
      "47.jpg\n",
      "48.jpg\n",
      "49.jpg\n",
      "5.jpg\n",
      "50.jpg\n",
      "51.jpg\n",
      "52.jpg\n",
      "53.jpg\n",
      "54.jpg\n",
      "55.jpg\n",
      "56.jpg\n",
      "57.jpg\n",
      "6.jpg\n",
      "7.jpg\n",
      "8.jpg\n",
      "9.jpg\n",
      "IMG_20211106_092542997.jpg\n",
      "IMG_20211106_092548411.jpg\n",
      "IMG_20211106_092553585.jpg\n",
      "IMG_20211106_092557844.jpg\n",
      "IMG_20211106_092614373.jpg\n",
      "IMG_20211106_092619294.jpg\n",
      "IMG_20211106_092625474.jpg\n",
      "IMG_20211106_092628725.jpg\n",
      "IMG_20211106_092635069.jpg\n",
      "IMG_20211106_092638739.jpg\n",
      "IMG_20211106_092651260.jpg\n",
      "IMG_20211106_092657896.jpg\n",
      "IMG_20211106_092701122.jpg\n",
      "IMG_20211106_092703800.jpg\n",
      "IMG_20211106_092710405.jpg\n",
      "IMG_20211106_092717136.jpg\n",
      "IMG_20211106_092721892.jpg\n",
      "IMG_20211106_092725395.jpg\n",
      "IMG_20211106_092748099.jpg\n",
      "IMG_20211106_092807794.jpg\n",
      "IMG_20211106_092811333.jpg\n",
      "IMG_20211106_092818682.jpg\n",
      "IMG_20211106_092835374.jpg\n",
      "IMG_20211106_092908353.jpg\n",
      "rename_files.ipynb\n"
     ]
    }
   ],
   "source": [
    "count = 0\n",
    "\n",
    "for i in os.listdir():\n",
    "  print(i)\n",
    "  os.rename(i,str(count) + '_v2' + '.'+ i.split('.')[-1])\n",
    "  count+=1"
   ]
  }
 ],
 "metadata": {
  "interpreter": {
   "hash": "c81fc24a71b693874d1f903a05c7868428cfbd93b6a22d5361d509ab21452cb4"
  },
  "kernelspec": {
   "display_name": "Python 3.6.6 64-bit",
   "language": "python",
   "name": "python3"
  },
  "language_info": {
   "codemirror_mode": {
    "name": "ipython",
    "version": 3
   },
   "file_extension": ".py",
   "mimetype": "text/x-python",
   "name": "python",
   "nbconvert_exporter": "python",
   "pygments_lexer": "ipython3",
   "version": "3.6.6"
  },
  "orig_nbformat": 4
 },
 "nbformat": 4,
 "nbformat_minor": 2
}
